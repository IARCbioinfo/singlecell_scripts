{
 "cells": [
  {
   "cell_type": "markdown",
   "id": "ba746dea-ec3e-4bb6-981d-c75f717b87d1",
   "metadata": {},
   "source": [
    "# Spatial transcriptomics analysis\n",
    "\n",
    "- Reference: https://www.sc-best-practices.org/cellular_structure/annotation.html"
   ]
  },
  {
   "cell_type": "code",
   "execution_count": 21,
   "id": "cc03dfdb-4291-4cb8-8ac1-6fd2bb3437cc",
   "metadata": {},
   "outputs": [],
   "source": [
    "import scanpy as sc\n",
    "import squidpy as sq\n",
    "import SpatialDE\n",
    "import NaiveDE\n",
    "import pandas as pd\n",
    "import matplotlib.pyplot as plt\n",
    "import seaborn as sns\n",
    "import os\n",
    "import numpy as np\n",
    "import math\n",
    "import seaborn as sns\n",
    "from scipy.stats import median_abs_deviation\n",
    "import scipy"
   ]
  },
  {
   "cell_type": "code",
   "execution_count": null,
   "id": "2a32ef8b-b002-4109-916a-88313bf7c482",
   "metadata": {},
   "outputs": [],
   "source": [
    "import anndata2ri\n",
    "import logging\n",
    "import rpy2.rinterface_lib.callbacks as rcb\n",
    "import rpy2.robjects as ro\n",
    "\n",
    "from rpy2.robjects.conversion import localconverter\n",
    "\n",
    "rcb.logger.setLevel(logging.ERROR)\n",
    "ro.pandas2ri.activate()\n",
    "\n",
    "%load_ext rpy2.ipython"
   ]
  },
  {
   "cell_type": "code",
   "execution_count": 23,
   "id": "a733e711-e036-42e6-a061-ebe0dc9015b2",
   "metadata": {},
   "outputs": [],
   "source": [
    "#sc.logging.print_versions()\n",
    "sc.set_figure_params(facecolor=\"white\", figsize=(8, 8))\n",
    "sc.settings.verbosity = 3\n",
    "out_folder = \"results\""
   ]
  },
  {
   "cell_type": "code",
   "execution_count": 24,
   "id": "7252da49-bcb3-4383-a77b-ac8da608e5b9",
   "metadata": {},
   "outputs": [],
   "source": [
    "# parameters\n",
    "sample_ids = [\"mesom03\", \"mesom26\"]"
   ]
  },
  {
   "cell_type": "code",
   "execution_count": null,
   "id": "6303bda7",
   "metadata": {},
   "outputs": [],
   "source": [
    "adata03 = sc.read_visium('visium/mesom03/outs')"
   ]
  },
  {
   "cell_type": "code",
   "execution_count": null,
   "id": "4fc44e46",
   "metadata": {},
   "outputs": [],
   "source": [
    "adata26 = sc.read_visium('visium/mesom26/outs')"
   ]
  },
  {
   "cell_type": "code",
   "execution_count": null,
   "id": "cd993c91",
   "metadata": {},
   "outputs": [],
   "source": [
    "\"CHST4\" in adata26.var_names"
   ]
  },
  {
   "cell_type": "code",
   "execution_count": null,
   "id": "0c8c3646",
   "metadata": {},
   "outputs": [],
   "source": [
    "sum(adata03.X.data)"
   ]
  },
  {
   "cell_type": "markdown",
   "id": "aa7debc0",
   "metadata": {},
   "source": [
    "some hub genes from Nicolas's paper:\n",
    "test_genes = {\n",
    "  \"Carcinoid_A1\": [\"DLL3\", \"ASCL1\"],\n",
    "  \"Carcinoid_A2\": [\"ROBO1\", \"SLIT1\"],\n",
    "  \"Supraca\": [\"PD-L1\"],\n",
    "  \"LCNEC\": [\"ANGPTL3\", \"OTP\", \"NKX2-1\", \"ERBB4\"]\n",
    "}\n",
    "\n",
    "in our case : genes for each of the 3 archetypes"
   ]
  },
  {
   "cell_type": "markdown",
   "id": "74fce0b1-c3db-4b05-b022-853b8f342783",
   "metadata": {},
   "source": [
    "## Import data & QC"
   ]
  },
  {
   "cell_type": "code",
   "execution_count": 29,
   "id": "cda52353-2ce5-4d56-9a96-137ec581bea2",
   "metadata": {},
   "outputs": [],
   "source": [
    "def find_outliers(dat):\n",
    "    q3, q1 = np.percentile(dat, [75 ,25])\n",
    "    IQR = q3-q1\n",
    "    lower_bound, upper_bound = np.percentile(dat, [1 ,99])\n",
    "    return q3,q1,lower_bound,upper_bound"
   ]
  },
  {
   "cell_type": "code",
   "execution_count": 30,
   "id": "9d3fb5a8-7380-422d-807a-e8aaa284ae92",
   "metadata": {},
   "outputs": [],
   "source": [
    "def is_outlier(adata, metric: str, nmads: int):\n",
    "    M = adata.obs[metric]\n",
    "    outlier = (M < np.median(M) - nmads * median_abs_deviation(M)) | (\n",
    "        np.median(M) + nmads * median_abs_deviation(M) < M\n",
    "    )\n",
    "    return outlier"
   ]
  },
  {
   "cell_type": "code",
   "execution_count": null,
   "id": "2dfb433b",
   "metadata": {},
   "outputs": [],
   "source": [
    "#ddir = os.path.join(\"data\", \"nicolas_spatial_data\")\n",
    "ddir = os.path.join(\"/data/mesomics/work/mesomics2/mangel\", \"visium\")\n",
    "adatas = []\n",
    "adatas_copy = []\n",
    "\n",
    "fig, axes = plt.subplots(2, 6, figsize=(24, 8))\n",
    "axes = axes.flatten()\n",
    "\n",
    "fig2, axes2 = plt.subplots(2, 4, figsize=(24, 8))\n",
    "axes2 = axes2.flatten()\n",
    "\n",
    "\"\"\"\n",
    "fig3, axes3 = plt.subplots(2, 2, figsize=(12, 8))\n",
    "axes3 = axes3.flatten()\n",
    "\"\"\"\n",
    "\n",
    "for i in range(len(sample_ids)):\n",
    "    sample_id = sample_ids[i]\n",
    "    sample_ddir = os.path.join(ddir, sample_id, \"outs\")\n",
    "    adata = sc.read_visium(sample_ddir)\n",
    "    adata.var_names_make_unique()\n",
    "    adata.obs['sample'] = sample_id\n",
    "    clusters_path = os.path.join(sample_ddir, \"analysis/clustering/gene_expression_graphclust\",\"clusters.csv\")\n",
    "    clusters_df = pd.read_csv(clusters_path)\n",
    "    # Now assign the values to adata.obs['cluster']\n",
    "    adata.obs['cluster'] = clusters_df.set_index('Barcode').loc[adata.obs.index, clusters_df.columns[1]].values\n",
    "    print(adata)\n",
    "    \n",
    "    # mitochondrial genes\n",
    "    adata.var[\"mt\"] = adata.var_names.str.startswith(\"MT-\")\n",
    "    # ribosomal genes\n",
    "    adata.var[\"ribo\"] = adata.var_names.str.startswith(\"RP[SL]\")\n",
    "    # calculate QC metrics\n",
    "    sc.pp.calculate_qc_metrics(\n",
    "        adata, \n",
    "        qc_vars=[\"mt\", \"ribo\"], \n",
    "        percent_top = (20, 50, 100, 200, 500),\n",
    "        inplace=True\n",
    "    )\n",
    "    \n",
    "    # identify outlier via MAD\n",
    "    adata.obs[\"outlier\"] = (\n",
    "        is_outlier(adata, \"log1p_total_counts\", 5)\n",
    "        | is_outlier(adata, \"log1p_n_genes_by_counts\", 5)\n",
    "        | is_outlier(adata, \"pct_counts_in_top_20_genes\", 5)\n",
    "    )\n",
    "    adata.obs.outlier.value_counts()\n",
    "    \n",
    "    # identify outlier via MT gene pct\n",
    "    # !!! percentage of MT gene is all 0\n",
    "    adata.obs[\"mt_outlier\"] = is_outlier(adata, \"pct_counts_mt\", 5) | (\n",
    "        adata.obs[\"pct_counts_mt\"] > 20\n",
    "    )\n",
    "    adata.obs.mt_outlier.value_counts()\n",
    "    \n",
    "    # visualize\n",
    "    q3,q1,tc_lower_bound,tc_upper_bound = find_outliers(adata.obs[\"total_counts\"])\n",
    "    q3_,q1_,tc_lower_bound_,tc_upper_bound_ = find_outliers(adata.obs[\"log1p_total_counts\"])\n",
    "    \n",
    "    \n",
    "    sns.distplot(adata.obs[\"total_counts\"], kde=False, ax=axes[6*i])\n",
    "    axes[6*i].axvline(tc_lower_bound, color='red')\n",
    "    axes[6*i].axvline(tc_upper_bound, color='red')\n",
    "    axes[6*i].set_title(f'before filtering', fontsize=10)\n",
    "    axes[6*i].set_ylabel(sample_id)\n",
    "    \n",
    "    \"\"\"\n",
    "    sns.distplot(adata.obs[\"log1p_total_counts\"], kde=False, ax=axes[6*i])\n",
    "    axes[6*i].axvline(tc_lower_bound_, color='red')\n",
    "    axes[6*i].axvline(tc_upper_bound_, color='red')\n",
    "    axes[6*i].set_title(f'before filtering', fontsize=10)\n",
    "    axes[6*i].set_ylabel(sample_id)\n",
    "    \"\"\"\n",
    "    sc.pl.scatter(\n",
    "        adata, \n",
    "        \"n_genes_by_counts\", \n",
    "        \"pct_counts_in_top_20_genes\", \n",
    "        color=\"pct_counts_mt\",\n",
    "        ax=axes[6*i+2],\n",
    "        #colorbar=False,\n",
    "        #colorbar_ax=axes[5*(i+1)],\n",
    "        #colorbar_ax=axes[6*i+3], \n",
    "        show = False,\n",
    "        legend_loc='none'\n",
    "    )\n",
    "    \n",
    "    # Manual colorbar creation\n",
    "    # Get the scatter plot's norm and cmap\n",
    "    scatter = axes[6*i+2].collections[0]  # Get the scatter plot collection\n",
    "    norm = scatter.norm\n",
    "    cmap = scatter.get_array()  # Get the colormap\n",
    "\n",
    "    # Create a colorbar on the last column axis\n",
    "    cbar = fig.colorbar(scatter, ax=axes[6*i+2], orientation='vertical')\n",
    "    cbar.set_label(\"Percentage Counts MT\")\n",
    "    \n",
    "    sc.pl.scatter(\n",
    "        adata, \n",
    "        \"n_genes_by_counts\", \n",
    "        \"pct_counts_in_top_20_genes\", \n",
    "        color=\"outlier\",\n",
    "        ax=axes[6*i+3], \n",
    "        show = False,\n",
    "        legend_loc='none'\n",
    "    )\n",
    "    df = adata.obs[['sample', 'total_counts', 'outlier']]\n",
    "    sns.violinplot(\n",
    "        data=df,\n",
    "        x='sample',\n",
    "        y='total_counts',\n",
    "        hue='outlier',\n",
    "        split=True,\n",
    "        scale='count',\n",
    "        inner='quartile',\n",
    "        ax=axes[6*i+4]\n",
    "    )\n",
    "    \n",
    "    # for spatial visualization of outlier spots\n",
    "    adatas_copy.append(adata.copy())\n",
    "    \"\"\" TO BE USED WHEN COLORBAR LOCATION PB IS FIXED (for now appears on wrong ax)\n",
    "    adatas_copy[i].obsm['spatial'] = adatas_copy[i].obsm['spatial'].astype('float')\n",
    "    adatas_copy[i].obs['outlier'] = adatas_copy[i].obs['outlier'].astype('category')\n",
    "    adatas_copy[i].obs['mt_outlier'] = adatas_copy[i].obs['mt_outlier'].astype('category')\n",
    "    sc.pl.spatial(adatas_copy[i], color='outlier', scale_factor=1.5, ax=axes3[2*i], show=False)\n",
    "    sc.pl.spatial(adatas_copy[i], color='mt_outlier', scale_factor=1.5, ax=axes3[2*i+1], show=False)\n",
    "    axes3[2*i].set_title(\"Outliers\")\n",
    "    axes3[2*i+1].set_title(\"MT Outliers\")\n",
    "    \"\"\"\n",
    "    \n",
    "    # filtering\n",
    "    print(f\"Total number of spots: {adata.n_obs}\")\n",
    "    print(f\"Total number of reads: {sum(adata.X.data)}\")\n",
    "    adata = adata[(~adata.obs.outlier) & (~adata.obs.mt_outlier)].copy()\n",
    "    print(f\"Number of spots after filtering of low quality spots: {adata.n_obs}\")\n",
    "    print(f\"Number of reads after filtering of low quality spots: {sum(adata.X.data)}\")\n",
    "\n",
    "    adata.obs_names.to_series().to_csv(\"scanpy_selected_cells_{}_06052024.txt\".format(sample_id))\n",
    "    \n",
    "    sns.distplot(adata.obs[\"total_counts\"], kde=False, ax=axes[6*i+1])\n",
    "    axes[6*i+1].axvline(tc_lower_bound_, color='red')\n",
    "    axes[6*i+1].axvline(tc_upper_bound_, color='red')\n",
    "    axes[6*i+1].set_title(f'after filtering', fontsize=10)\n",
    "\n",
    "    adata.layers[\"counts\"] = adata.X.copy()\n",
    "    \n",
    "    # normalization\n",
    "    scales_counts = sc.pp.normalize_total(adata, target_sum=None, inplace=False)\n",
    "    # log1p transform\n",
    "    adata.layers[\"log1p_norm\"] = sc.pp.log1p(scales_counts[\"X\"], copy=True)\n",
    "    sns.histplot(\n",
    "        adata.obs[\"total_counts\"], \n",
    "        bins=100, \n",
    "        kde=False, \n",
    "        ax=axes2[4*i]\n",
    "    )\n",
    "    axes2[4*i].set_ylabel(sample_id)\n",
    "    axes2[4*i].set_title(\"Total counts\")\n",
    "    \n",
    "    scales_counts = sc.pp.normalize_total(adata, target_sum=None, inplace=False)\n",
    "    # log1p transform\n",
    "    adata.layers[\"log1p_norm\"] = sc.pp.log1p(scales_counts[\"X\"], copy=True)\n",
    "    sns.histplot(\n",
    "        adata.layers[\"log1p_norm\"].sum(1), \n",
    "        bins=100, \n",
    "        kde=False, \n",
    "        ax=axes2[4*i+1]\n",
    "    )\n",
    "    axes2[4*i+1].set_title(\"Shifted logarithm\")\n",
    "    \n",
    "    adatas.append(adata)\n",
    "    \n",
    "\n",
    "fig.tight_layout()\n",
    "\n",
    "fig.savefig(os.path.join('ST_QC.png'))\n",
    "fig2.savefig(os.path.join('ST_norm.png'))\n",
    "#fig3.savefig(os.path.join('ST_outliers.png'))\n",
    "\n",
    "fig.show()"
   ]
  },
  {
   "cell_type": "code",
   "execution_count": null,
   "id": "35368701",
   "metadata": {},
   "outputs": [],
   "source": [
    "adatas[1].obsm[\"spatial\"]"
   ]
  },
  {
   "cell_type": "code",
   "execution_count": null,
   "id": "ecb58632",
   "metadata": {},
   "outputs": [],
   "source": [
    "set(adatas[0].obs[\"outlier\"])"
   ]
  },
  {
   "cell_type": "code",
   "execution_count": 15,
   "id": "88a57ca0",
   "metadata": {},
   "outputs": [],
   "source": [
    "adatas[0].write(\"sample_3B/sample3B_visium_QC_norm.h5ad\")\n",
    "adatas[1].write(\"sample_26/sample26_visium_QC_norm.h5ad\")"
   ]
  },
  {
   "cell_type": "code",
   "execution_count": null,
   "id": "74e0c0da",
   "metadata": {},
   "outputs": [],
   "source": [
    "fig3, axes3 = plt.subplots(2, 2, figsize=(12, 8))\n",
    "axes3 = axes3.flatten()\n",
    "\n",
    "for i in range(len(adatas_copy)):\n",
    "\n",
    "    adatas_copy[i].obsm['spatial'] = adatas_copy[i].obsm['spatial'].astype('float')\n",
    "    adatas_copy[i].obs['outlier'] = adatas_copy[i].obs['outlier'].astype('category')\n",
    "    adatas_copy[i].obs['mt_outlier'] = adatas_copy[i].obs['mt_outlier'].astype('category')\n",
    "    adatas_copy[i].obs['cluster'] = adatas_copy[i].obs['cluster'].astype('category')\n",
    "    sc.pl.spatial(adatas_copy[i], color='outlier', scale_factor=1.5, ax=axes3[2*i], show=False)\n",
    "    sc.pl.spatial(adatas_copy[i], color='mt_outlier', scale_factor=1.5, ax=axes3[2*i+1], show=False)\n",
    "    axes3[2*i].set_title(\"Outliers\")\n",
    "    axes3[2*i+1].set_title(\"MT Outliers\")\n",
    "\n",
    "fig3.tight_layout()\n",
    "fig3.savefig(os.path.join('ST_outliers.png'))\n",
    "fig3.show()"
   ]
  },
  {
   "cell_type": "code",
   "execution_count": null,
   "id": "030ac932",
   "metadata": {},
   "outputs": [],
   "source": [
    "sq.pl.spatial_scatter(adatas_copy[0], color=\"cluster\", figsize=(6, 6))\n",
    "sq.pl.spatial_scatter(adatas_copy[1], color=\"cluster\", figsize=(6, 6))"
   ]
  },
  {
   "cell_type": "markdown",
   "id": "45fea478",
   "metadata": {},
   "source": [
    "Do same modifications to actual adata objects:"
   ]
  },
  {
   "cell_type": "code",
   "execution_count": 18,
   "id": "cd6d92b9",
   "metadata": {},
   "outputs": [],
   "source": [
    "for i in range(len(adatas)):\n",
    "\n",
    "    adatas[i].obsm['spatial'] = adatas[i].obsm['spatial'].astype('float')\n",
    "    adatas[i].obs['outlier'] = adatas[i].obs['outlier'].astype('category')\n",
    "    adatas[i].obs['mt_outlier'] = adatas[i].obs['mt_outlier'].astype('category')\n",
    "    adatas[i].obs['cluster'] = adatas[i].obs['cluster'].astype('category')"
   ]
  },
  {
   "cell_type": "code",
   "execution_count": null,
   "id": "56f17430",
   "metadata": {},
   "outputs": [],
   "source": [
    "sq.pl.spatial_scatter(adatas[0], color=\"cluster\", figsize=(6, 6))\n",
    "sq.pl.spatial_scatter(adatas[1], color=\"cluster\", figsize=(6, 6))"
   ]
  },
  {
   "cell_type": "markdown",
   "id": "1034e94e",
   "metadata": {},
   "source": [
    "# Mapping & deconvolution : Cell2location"
   ]
  },
  {
   "cell_type": "code",
   "execution_count": 34,
   "id": "72ad6833",
   "metadata": {},
   "outputs": [],
   "source": [
    "import cell2location as c2l\n",
    "import matplotlib\n",
    "\n",
    "sc.settings.verbosity = 3\n",
    "sc.settings.set_figure_params(dpi=80, facecolor=\"white\")"
   ]
  },
  {
   "cell_type": "code",
   "execution_count": 4,
   "id": "0949a8d4",
   "metadata": {},
   "outputs": [],
   "source": [
    "adata_sc_3B = sc.read(\"sample_3B/sample3B_annotation.h5ad\")\n",
    "adata_sc_26 = sc.read(\"sample_26/sample26_annotation.h5ad\")"
   ]
  },
  {
   "cell_type": "code",
   "execution_count": null,
   "id": "41c96bb0",
   "metadata": {},
   "outputs": [],
   "source": [
    "list(cell_type for cell_type in set(adata_sc_3B.obs[\"celltypist_cell_label_coarse\"]) if cell_type not in [\"ILC\",\"pDC\",\"Monocytes\",\"Epithelial cells\",\"DC\"])"
   ]
  },
  {
   "cell_type": "code",
   "execution_count": 13,
   "id": "d4ecddf6",
   "metadata": {},
   "outputs": [],
   "source": [
    "adatas3B = sc.read(\"sample_3B/sample3B_visium_QC_norm.h5ad\")\n",
    "adatas26 = sc.read(\"sample_26/sample26_visium_QC_norm.h5ad\")"
   ]
  },
  {
   "cell_type": "code",
   "execution_count": 16,
   "id": "424dda32",
   "metadata": {},
   "outputs": [],
   "source": [
    "adatas = [adatas3B, adatas26]"
   ]
  },
  {
   "cell_type": "code",
   "execution_count": null,
   "id": "2b5b281a",
   "metadata": {},
   "outputs": [],
   "source": [
    "adatas_sc = [adata_sc_3B, adata_sc_26]"
   ]
  },
  {
   "cell_type": "code",
   "execution_count": 10,
   "id": "88bd201e",
   "metadata": {},
   "outputs": [],
   "source": [
    "def deconvol(adata_sc_ref,adata_st,list_celltypes):\n",
    "    \n",
    "    adata_sc = adata_sc_ref.copy()\n",
    "    adata = adata_st.copy()\n",
    "    \n",
    "    sq.pl.spatial_scatter(adata)\n",
    "    \n",
    "    adata_sc.X = adata_sc.layers[\"counts\"]\n",
    "    sc.pl.umap(adata_sc, color=\"celltypist_cell_label_coarse\")\n",
    "    \n",
    "    adata.var[\"feature_name\"] = adata.var_names\n",
    "    adata.var.set_index(\"gene_ids\", drop=True, inplace=True)\n",
    "    adata_sc.var[\"feature_name\"] = adata_sc.var_names\n",
    "    adata_sc.var.set_index(\"gene_ids\", drop=True, inplace=True)\n",
    "    \n",
    "    # find mitochondrial (MT) genes\n",
    "    adata.var[\"MT_gene\"] = [\n",
    "        gene.startswith(\"MT-\") for gene in adata.var[\"feature_name\"]\n",
    "    ]\n",
    "    # remove MT genes for spatial mapping (keeping their counts in the object)\n",
    "    adata.obsm[\"MT\"] = adata[:, adata.var[\"MT_gene\"].values].X.toarray()\n",
    "    adata = adata[:, ~adata.var[\"MT_gene\"].values]\n",
    "    \n",
    "    shared_features = [\n",
    "        feature for feature in adata.var_names if feature in adata_sc.var_names\n",
    "    ]\n",
    "    adata_sc = adata_sc[:, shared_features].copy()\n",
    "    adata = adata[:, shared_features].copy()\n",
    "    \n",
    "    ### Fitting reference model\n",
    "    # select common genes\n",
    "    selected = c2l.utils.filtering.filter_genes(\n",
    "        adata_sc, cell_count_cutoff=5, cell_percentage_cutoff2=0.03, nonz_mean_cutoff=1.12\n",
    "    )\n",
    "    adata_sc = adata_sc[:, selected].copy()\n",
    "    adata = adata[:, selected].copy()\n",
    "    \n",
    "    # create and train ref model\n",
    "    c2l.models.RegressionModel.setup_anndata(\n",
    "        adata=adata_sc,\n",
    "        labels_key=\"celltypist_cell_label_coarse\",\n",
    "        layer=\"counts\",\n",
    "    )\n",
    "    model = c2l.models.RegressionModel(adata_sc)\n",
    "    model.train(max_epochs=400, batch_size=2500, train_size=1, lr=0.002) #use_gpu=True\n",
    "    print(model.plot_history(20))\n",
    "    \n",
    "    model.export_posterior(\n",
    "        adata_sc,\n",
    "        sample_kwargs={\"num_samples\": 1000, \"batch_size\": 2500},\n",
    "    )\n",
    "    \n",
    "    model.plot_QC()\n",
    "    \n",
    "    # export estimated expression in each cluster\n",
    "    if \"means_per_cluster_mu_fg\" in adata_sc.varm.keys():\n",
    "        inf_aver = adata_sc.varm[\"means_per_cluster_mu_fg\"][\n",
    "            [f\"means_per_cluster_mu_fg_{i}\" for i in adata_sc.uns[\"mod\"][\"factor_names\"]]\n",
    "        ].copy()\n",
    "    else:\n",
    "        inf_aver = adata_sc.var[\n",
    "            [f\"means_per_cluster_mu_fg_{i}\" for i in adata_sc.uns[\"mod\"][\"factor_names\"]]\n",
    "        ].copy()\n",
    "\n",
    "    inf_aver.columns = adata_sc.uns[\"mod\"][\"factor_names\"]\n",
    "    inf_aver.head()\n",
    "    \n",
    "    ### Cell type mapping\n",
    "    # prepare data\n",
    "    c2l.models.Cell2location.setup_anndata(\n",
    "    adata=adata\n",
    "    )\n",
    "    \n",
    "    model = c2l.models.Cell2location(\n",
    "    adata,\n",
    "    cell_state_df=inf_aver,\n",
    "    N_cells_per_location=8,\n",
    "    )\n",
    "    model.view_anndata_setup()\n",
    "    \n",
    "    # train mapping model\n",
    "    \n",
    "    model.train(max_epochs=30000, batch_size=None, train_size=1) #use_gpu=True\n",
    "    # plot training history\n",
    "    print(model.plot_history())\n",
    "    \n",
    "    adata = model.export_posterior(\n",
    "    adata,\n",
    "    sample_kwargs={\n",
    "        \"num_samples\": 1000,\n",
    "        \"batch_size\": model.adata.n_obs,\n",
    "        },\n",
    "    )\n",
    "    \n",
    "    model.plot_QC()\n",
    "    \n",
    "    # visualize\n",
    "    adata.obs[adata.uns[\"mod\"][\"factor_names\"]] = adata.obsm[\n",
    "    \"q05_cell_abundance_w_sf\"\n",
    "    ]\n",
    "    # select one slide for visualization\n",
    "\n",
    "    with matplotlib.rc_context({\"figure.figsize\": [4.5, 5]}):\n",
    "        sc.pl.spatial(\n",
    "            adata,\n",
    "            cmap=\"magma\",\n",
    "            color=adata.uns[\"mod\"][\"factor_names\"],\n",
    "            ncols=4,\n",
    "            size=1.3,\n",
    "            img_key=\"hires\",\n",
    "            # limit color scale at 99.2% quantile of cell abundance\n",
    "            vmin=0,\n",
    "            vmax=\"p99.2\",\n",
    "        )\n",
    "    \n",
    "    clust_col = list_celltypes\n",
    "    clust_labels = clust_col\n",
    "\n",
    "    with matplotlib.rc_context({\"figure.figsize\": (15, 15)}):\n",
    "        fig = c2l.plt.plot_spatial(\n",
    "            adata=adata,\n",
    "            color=clust_col,\n",
    "            labels=clust_labels,\n",
    "            max_color_quantile=0.992,\n",
    "            circle_diameter=6,\n",
    "            show_img=True,\n",
    "            colorbar_position=\"right\",\n",
    "            colorbar_shape={\"horizontal_gaps\": 0.2},\n",
    "        )\n",
    "    \n",
    "    return adata, adata_sc"
   ]
  },
  {
   "cell_type": "code",
   "execution_count": null,
   "id": "68c698fb",
   "metadata": {},
   "outputs": [],
   "source": [
    "adata3B_deconvol, adata_sc_3B_deconvol = deconvol(adata_sc_3B,adatas3B,list(cell_type for cell_type in set(adata_sc_3B.obs[\"celltypist_cell_label_coarse\"]) if cell_type not in [\"ILC\",\"pDC\",\"Monocytes\",\"Epithelial cells\",\"DC\"]))"
   ]
  },
  {
   "cell_type": "markdown",
   "id": "f4808304",
   "metadata": {},
   "source": [
    "import matplotlib.pyplot as plt\n",
    "%matplotlib inline\n",
    "\n",
    "adata_sc = sc.read(\"sample_3B/sample3B_sc_ref_deconvol.h5ad\")\n",
    "adatas3B = sc.read(\"sample_3B/sample3B_visium_deconvol.h5ad\")\n",
    "\n",
    "clust_col = list(cell_type for cell_type in set(adata_sc.obs[\"celltypist_cell_label_coarse\"]) if cell_type not in [\"ILC\",\"pDC\",\"Monocytes\",\"Epithelial cells\",\"DC\"])\n",
    "clust_labels = clust_col\n",
    "\n",
    "with matplotlib.rc_context({\"figure.figsize\": (15, 15)}):\n",
    "    fig = c2l.plt.plot_spatial(\n",
    "        adata=adatas3B,\n",
    "        color=clust_col,\n",
    "        labels=clust_labels,\n",
    "        max_color_quantile=0.992,\n",
    "        circle_diameter=6,\n",
    "        show_img=True,\n",
    "        colorbar_position=\"right\",\n",
    "        colorbar_shape={\"horizontal_gaps\": 0.2},\n",
    "    )\n",
    "\n",
    "plt.savefig(\"sample_3B/deconv_c2l_3B.svg\", format=\"svg\")\n",
    "plt.show()"
   ]
  },
  {
   "cell_type": "code",
   "execution_count": 12,
   "id": "d71a6439",
   "metadata": {},
   "outputs": [],
   "source": [
    "adata3B_deconvol.write(\"sample_3B/sample3B_visium_deconvol.h5ad\")\n",
    "adata_sc_3B_deconvol.write(\"sample_3B/sample3B_sc_ref_deconvol.h5ad\")"
   ]
  },
  {
   "cell_type": "code",
   "execution_count": null,
   "id": "0d6787c1",
   "metadata": {},
   "outputs": [],
   "source": [
    "adata26_deconvol, adata_sc_26_deconvol = deconvol(adata_sc_26,adatas26,list(set(adata_sc_26.obs[\"celltypist_cell_label_coarse\"])))"
   ]
  },
  {
   "cell_type": "code",
   "execution_count": 16,
   "id": "5cc9943e",
   "metadata": {},
   "outputs": [],
   "source": [
    "adata26_deconvol.write(\"sample_26/sample26_visium_deconvol.h5ad\")\n",
    "adata_sc_26_deconvol.write(\"sample_26/sample26_sc_ref_deconvol.h5ad\")"
   ]
  },
  {
   "cell_type": "markdown",
   "id": "ec131871-6b62-4b83-a66d-a812843efe1a",
   "metadata": {},
   "source": [
    "## Spatial neighborhoods & domains"
   ]
  },
  {
   "cell_type": "code",
   "execution_count": null,
   "id": "48d95764",
   "metadata": {},
   "outputs": [],
   "source": [
    "for i in range(len(adatas)):\n",
    "    sq.gr.spatial_neighbors(adatas[i])\n",
    "    sq.gr.nhood_enrichment(adatas[i], cluster_key=\"cluster\")\n",
    "    sq.pl.nhood_enrichment(adatas[i], cluster_key=\"cluster\", method=\"average\", figsize=(5, 5))\n",
    "    sq.gr.interaction_matrix(adatas[i], cluster_key=\"cluster\")\n",
    "    sq.pl.interaction_matrix(adatas[i], cluster_key=\"cluster\", method=\"average\", figsize=(5, 5))\n",
    "    \n",
    "    # nearest neighbor graph\n",
    "    sc.pp.neighbors(adatas[i])\n",
    "    nn_graph_genes = adatas[i].obsp[\"connectivities\"]\n",
    "    # spatial proximity graph\n",
    "    sq.gr.spatial_neighbors(adatas[i])\n",
    "    nn_graph_space = adatas[i].obsp[\"spatial_connectivities\"]\n",
    "\n",
    "    alpha = 0.2\n",
    "    joint_graph = (1 - alpha) * nn_graph_genes + alpha * nn_graph_space\n",
    "    sc.tl.leiden(adatas[i], adjacency=joint_graph, key_added=\"squidpy_domains\")\n",
    "    \n",
    "    sq.pl.spatial_scatter(adatas[i], color=[\"cluster\", \"squidpy_domains\"], wspace=0.9)"
   ]
  },
  {
   "cell_type": "code",
   "execution_count": null,
   "id": "43d3a3f7",
   "metadata": {},
   "outputs": [],
   "source": [
    "\"KDR\" in adatas[0].var_names"
   ]
  },
  {
   "cell_type": "markdown",
   "id": "2654b28e",
   "metadata": {},
   "source": [
    "# Gene variation (HVG) in space : Squidpy"
   ]
  },
  {
   "cell_type": "code",
   "execution_count": null,
   "id": "7806074a",
   "metadata": {},
   "outputs": [],
   "source": [
    "adatas_norm_copy = adatas.copy()\n",
    "\n",
    "for i in range(len(adatas)):\n",
    "\n",
    "    adatas_norm_copy[i].X = adatas_norm_copy[i].layers[\"log1p_norm\"]\n",
    "    \n",
    "    sq.gr.spatial_neighbors(adatas_norm_copy[i])\n",
    "    sq.gr.spatial_autocorr(adatas_norm_copy[i], mode=\"moran\", genes=adatas_norm_copy[i].var_names)\n",
    "    \n",
    "    adatas_norm_copy[i].uns[\"moranI\"]\n",
    "   \n",
    "    sq.pl.spatial_scatter(adatas_norm_copy[i], color=[\"CTLA4\",\"CD274\",\"BAP1\",\"CHST4\"]) #list(top10[\"I\"][:1])+[\"CTLA4\",\"CD274\",\"BAP1\"]"
   ]
  },
  {
   "cell_type": "code",
   "execution_count": null,
   "id": "89e55d81",
   "metadata": {},
   "outputs": [],
   "source": [
    "adatas_norm_copy = adatas.copy()\n",
    "\n",
    "for i in range(len(adatas)):\n",
    "\n",
    "    adatas_norm_copy[i].X = adatas_norm_copy[i].layers[\"log1p_norm\"]\n",
    "    \n",
    "    sq.gr.spatial_neighbors(adatas_norm_copy[i])\n",
    "    sq.gr.spatial_autocorr(adatas_norm_copy[i], mode=\"moran\", genes=adatas_norm_copy[i].var_names)\n",
    "    \n",
    "    adatas_norm_copy[i].uns[\"moranI\"]\n",
    "   \n",
    "    sq.pl.spatial_scatter(adatas_norm_copy[i], color=[\"FLT1\",\"FLT4\",\"KDR\"]) #list(top10[\"I\"][:1])+[\"CTLA4\",\"CD274\",\"BAP1\"]"
   ]
  },
  {
   "cell_type": "markdown",
   "id": "afe339e4",
   "metadata": {},
   "source": [
    "# Gene variation (HVG) in space : SpatialDE"
   ]
  },
  {
   "cell_type": "code",
   "execution_count": null,
   "id": "c9d9f3e1",
   "metadata": {},
   "outputs": [],
   "source": [
    "for i in range(len(adatas)):\n",
    "    \n",
    "    adatas[i].var_names_make_unique()\n",
    "    \n",
    "    counts = sc.get.obs_df(adatas[i], keys=list(adatas[i].var_names), use_raw=False)\n",
    "    \n",
    "    total_counts = sc.get.obs_df(adatas[i], keys=[\"total_counts\"])\n",
    "    \n",
    "    norm_expr = NaiveDE.stabilize(counts.T).T\n",
    "    \n",
    "    resid_expr = NaiveDE.regress_out(total_counts, norm_expr.T, \"np.log(total_counts)\").T\n",
    "    \n",
    "    results = SpatialDE.run(adatas[i].obsm[\"spatial\"], resid_expr)\n",
    "    \n",
    "    top10 = results.sort_values(\"qval\").head(10)[[\"g\", \"l\", \"qval\"]]\n",
    "    top10\n",
    "    \n",
    "    sq.pl.spatial_scatter(adatas[i], color=list(top10[\"g\"][:3]) + [\"cluster\"])\n",
    "    sq.pl.spatial_scatter(adatas[i], color=[\"CTLA4\", \"CD274\",\"BAP1\"] + [\"cluster\"])\n",
    "    "
   ]
  },
  {
   "cell_type": "code",
   "execution_count": 30,
   "id": "98e59c16",
   "metadata": {},
   "outputs": [],
   "source": [
    "adatas[0].var_names_make_unique()"
   ]
  },
  {
   "cell_type": "code",
   "execution_count": null,
   "id": "99f47c15",
   "metadata": {},
   "outputs": [],
   "source": [
    "adatas[0]"
   ]
  },
  {
   "cell_type": "code",
   "execution_count": 32,
   "id": "2f37c878",
   "metadata": {},
   "outputs": [],
   "source": [
    "counts = sc.get.obs_df(adatas[0], keys=list(adatas[0].var_names), use_raw=False)"
   ]
  },
  {
   "cell_type": "code",
   "execution_count": 33,
   "id": "be6da062",
   "metadata": {},
   "outputs": [],
   "source": [
    "total_counts = sc.get.obs_df(adatas[0], keys=[\"total_counts\"])"
   ]
  },
  {
   "cell_type": "code",
   "execution_count": null,
   "id": "eec90f6b",
   "metadata": {},
   "outputs": [],
   "source": [
    "norm_expr = NaiveDE.stabilize(counts.T).T"
   ]
  },
  {
   "cell_type": "code",
   "execution_count": 35,
   "id": "0f8030cb",
   "metadata": {},
   "outputs": [],
   "source": [
    "resid_expr = NaiveDE.regress_out(total_counts, norm_expr.T, \"np.log(total_counts)\").T"
   ]
  },
  {
   "cell_type": "code",
   "execution_count": null,
   "id": "4eedaec7",
   "metadata": {},
   "outputs": [],
   "source": [
    "results = SpatialDE.run(adatas[0].obsm[\"spatial\"], resid_expr)"
   ]
  },
  {
   "cell_type": "code",
   "execution_count": null,
   "id": "f24c854d",
   "metadata": {},
   "outputs": [],
   "source": [
    "results.head()"
   ]
  },
  {
   "cell_type": "code",
   "execution_count": null,
   "id": "0ee20e9b",
   "metadata": {},
   "outputs": [],
   "source": [
    "top10 = results.sort_values(\"qval\").head(10)[[\"g\", \"l\", \"qval\"]]\n",
    "top10"
   ]
  },
  {
   "cell_type": "code",
   "execution_count": null,
   "id": "7526fcc3",
   "metadata": {},
   "outputs": [],
   "source": [
    "sq.pl.spatial_scatter(adatas[0], color=list(top10[\"g\"][:3]) + [\"cluster\"])"
   ]
  },
  {
   "cell_type": "code",
   "execution_count": null,
   "id": "ca2b5812",
   "metadata": {},
   "outputs": [],
   "source": [
    "sq.pl.spatial_scatter(adatas[0], color=[\"CTLA4\", \"CD274\",\"BAP1\"] + [\"cluster\"])"
   ]
  },
  {
   "cell_type": "markdown",
   "id": "81627dbc",
   "metadata": {},
   "source": [
    "Gene variation using normal scRNAseq data (for QC):"
   ]
  },
  {
   "cell_type": "code",
   "execution_count": null,
   "id": "bc4ee627",
   "metadata": {},
   "outputs": [],
   "source": [
    "%%R\n",
    "library(scry)"
   ]
  },
  {
   "cell_type": "code",
   "execution_count": 9,
   "id": "9e312264-172c-472e-95a4-3219778cbe1c",
   "metadata": {},
   "outputs": [],
   "source": [
    "def hvg(binomial_deviance, axes2, i, adata):\n",
    "    idx = binomial_deviance.argsort()[-4000:]\n",
    "    mask = np.zeros(adata.var_names.shape, dtype=bool)\n",
    "    mask[idx] = True\n",
    "\n",
    "    adata.var[\"highly_deviant\"] = mask\n",
    "    adata.var[\"binomial_deviance\"] = binomial_deviance\n",
    "    \n",
    "    sc.pp.highly_variable_genes(adata, layer=\"log1p_norm\")\n",
    "    \n",
    "    axes2[2*i+2] = sns.scatterplot(\n",
    "        data=adata.var, x=\"means\", y=\"dispersions\", hue=\"highly_deviant\", s=5\n",
    "    )\n",
    "    return adata, axes2"
   ]
  },
  {
   "cell_type": "markdown",
   "id": "04586e63-e799-480d-a90e-3274cd84d460",
   "metadata": {},
   "source": [
    "### Sample mesom03"
   ]
  },
  {
   "cell_type": "code",
   "execution_count": null,
   "id": "e9f8748a",
   "metadata": {},
   "outputs": [],
   "source": [
    "anndata2ri.activate()\n",
    "%reload_ext rpy2.ipython"
   ]
  },
  {
   "cell_type": "code",
   "execution_count": null,
   "id": "253039ea-813a-4770-87a5-52f7a48d48ee",
   "metadata": {},
   "outputs": [],
   "source": [
    "i = 0\n",
    "sample_id = sample_ids[i]\n",
    "adata = adatas[i]\n",
    "print(\"processing sample: {}\".format(sample_id))\n",
    "ro.globalenv[\"adata\"] = adata"
   ]
  },
  {
   "cell_type": "code",
   "execution_count": 13,
   "id": "6e6b972e-537d-4bd5-89db-35cc75bc8273",
   "metadata": {},
   "outputs": [],
   "source": [
    "%%R\n",
    "sce = devianceFeatureSelection(adata, assay=\"X\")"
   ]
  },
  {
   "cell_type": "code",
   "execution_count": null,
   "id": "f76b91eb-39db-4cca-83e3-3f241e8319ed",
   "metadata": {},
   "outputs": [],
   "source": [
    "binomial_deviance = ro.r(\"rowData(sce)$binomial_deviance\").T\n",
    "adatas[i], axes2 = hvg(binomial_deviance, axes2, i, adata)"
   ]
  },
  {
   "cell_type": "markdown",
   "id": "916e08da-aa7c-4a3e-80ed-62dbda32516a",
   "metadata": {},
   "source": [
    "### Sample LNEN084-IARC-B"
   ]
  },
  {
   "cell_type": "code",
   "execution_count": null,
   "id": "aae07f32-a6cc-47c1-aeb3-f0e5c9eebd90",
   "metadata": {},
   "outputs": [],
   "source": [
    "i = 1\n",
    "sample_id = sample_ids[i]\n",
    "adata = adatas[i]\n",
    "print(\"processing sample: {}\".format(sample_id))\n",
    "ro.globalenv[\"adata\"] = adata"
   ]
  },
  {
   "cell_type": "code",
   "execution_count": 16,
   "id": "e387835e-7ac7-4aa1-817f-adc5af795955",
   "metadata": {},
   "outputs": [],
   "source": [
    "%%R\n",
    "sce = devianceFeatureSelection(adata, assay=\"X\")"
   ]
  },
  {
   "cell_type": "code",
   "execution_count": null,
   "id": "77982fee-2842-4e8d-ac59-6def48c439aa",
   "metadata": {},
   "outputs": [],
   "source": [
    "binomial_deviance = ro.r(\"rowData(sce)$binomial_deviance\").T\n",
    "adatas[i], axes2 = hvg(binomial_deviance, axes2, i, adata)"
   ]
  },
  {
   "cell_type": "markdown",
   "id": "e190cc13-2952-46a6-adec-e7647bd86969",
   "metadata": {},
   "source": [
    "### LNEN107-IARC-C"
   ]
  },
  {
   "cell_type": "code",
   "execution_count": null,
   "id": "41e86da4-92c8-4492-bd96-67e510885bc5",
   "metadata": {},
   "outputs": [],
   "source": [
    "i = 2\n",
    "sample_id = sample_ids[i]\n",
    "adata = adatas[i]\n",
    "print(\"processing sample: {}\".format(sample_id))\n",
    "ro.globalenv[\"adata\"] = adata"
   ]
  },
  {
   "cell_type": "code",
   "execution_count": 19,
   "id": "e30f7210-8c5b-4ff1-9afd-f42221b3e023",
   "metadata": {},
   "outputs": [],
   "source": [
    "%%R\n",
    "sce = devianceFeatureSelection(adata, assay=\"X\")"
   ]
  },
  {
   "cell_type": "code",
   "execution_count": null,
   "id": "a1eb8bf0-cc60-4a37-82b6-5a3e567abcac",
   "metadata": {},
   "outputs": [],
   "source": [
    "binomial_deviance = ro.r(\"rowData(sce)$binomial_deviance\").T\n",
    "adatas[i], axes2 = hvg(binomial_deviance, axes2, i, adata)"
   ]
  },
  {
   "cell_type": "markdown",
   "id": "2e83dd0a-60d9-4f12-8e14-ad4db1753a9c",
   "metadata": {},
   "source": [
    "### LNEN206-IARC-D"
   ]
  },
  {
   "cell_type": "code",
   "execution_count": null,
   "id": "74cad4a3-c2fd-4fe1-9474-c9f41c28734f",
   "metadata": {},
   "outputs": [],
   "source": [
    "i = 3\n",
    "sample_id = sample_ids[i]\n",
    "adata = adatas[i]\n",
    "print(\"processing sample: {}\".format(sample_id))\n",
    "ro.globalenv[\"adata\"] = adata"
   ]
  },
  {
   "cell_type": "code",
   "execution_count": 22,
   "id": "2f78df7b-7ef9-4809-b194-fc42df108abd",
   "metadata": {},
   "outputs": [],
   "source": [
    "%%R\n",
    "sce = devianceFeatureSelection(adata, assay=\"X\")"
   ]
  },
  {
   "cell_type": "code",
   "execution_count": null,
   "id": "403a362b-a8a8-464b-9224-b5c92d0fe8a0",
   "metadata": {},
   "outputs": [],
   "source": [
    "binomial_deviance = ro.r(\"rowData(sce)$binomial_deviance\").T\n",
    "adatas[i], axes2 = hvg(binomial_deviance, axes2, i, adata)"
   ]
  },
  {
   "cell_type": "code",
   "execution_count": null,
   "id": "83c76197-ad22-44b3-aaa4-0d69ca1203c5",
   "metadata": {},
   "outputs": [],
   "source": [
    "fig2.tight_layout()\n",
    "fig2.savefig(os.path.join('ST_normalization_hvg.png'))\n",
    "fig2.show()"
   ]
  },
  {
   "cell_type": "code",
   "execution_count": 25,
   "id": "fcbaf7a7-702a-4bd3-9d7b-f22ef9d5ba24",
   "metadata": {},
   "outputs": [],
   "source": [
    "for i in range(len(sample_ids)):\n",
    "    sample_id = sample_ids[i]\n",
    "    adata = adatas[i]\n",
    "    adata.write(\"adata_{}_scanpy_06052024.h5ad\".format(sample_id))"
   ]
  }
 ],
 "metadata": {
  "kernelspec": {
   "display_name": "meso2_conda_env",
   "language": "python",
   "name": "python3"
  },
  "language_info": {
   "codemirror_mode": {
    "name": "ipython",
    "version": 3
   },
   "file_extension": ".py",
   "mimetype": "text/x-python",
   "name": "python",
   "nbconvert_exporter": "python",
   "pygments_lexer": "ipython3",
   "version": "3.12.2"
  }
 },
 "nbformat": 4,
 "nbformat_minor": 5
}
